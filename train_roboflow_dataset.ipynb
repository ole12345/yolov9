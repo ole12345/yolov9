{
 "cells": [
  {
   "cell_type": "code",
   "execution_count": 2,
   "metadata": {},
   "outputs": [
    {
     "name": "stdout",
     "output_type": "stream",
     "text": [
      "visit https://app.roboflow.com/auth-cli to get your authentication token.\n",
      "loading Roboflow workspace...\n",
      "loading Roboflow project...\n"
     ]
    },
    {
     "name": "stderr",
     "output_type": "stream",
     "text": [
      "Downloading Dataset Version Zip in football-players-detection-1 to yolov9:: 100%|██████████| 148663/148663 [00:11<00:00, 13180.35it/s]"
     ]
    },
    {
     "name": "stdout",
     "output_type": "stream",
     "text": [
      "\n"
     ]
    },
    {
     "name": "stderr",
     "output_type": "stream",
     "text": [
      "\n",
      "Extracting Dataset Version Zip to football-players-detection-1 in yolov9:: 100%|██████████| 1338/1338 [00:00<00:00, 2549.03it/s]\n"
     ]
    }
   ],
   "source": [
    "import roboflow\n",
    "\n",
    "roboflow.login()\n",
    "\n",
    "rf = roboflow.Roboflow()\n",
    "\n",
    "project = rf.workspace(\"roboflow-jvuqo\").project(\"football-players-detection-3zvbc\")\n",
    "dataset = project.version(1).download(\"yolov9\")"
   ]
  },
  {
   "cell_type": "code",
   "execution_count": 9,
   "metadata": {},
   "outputs": [],
   "source": [
    "import shutil\n",
    "from os import listdir, makedirs\n",
    "from os.path import join\n",
    "import yaml\n",
    "#shutil.move(join(\".\",\"football-players-detection-1\",\"data.yaml\"),join(\".\",\"data\",\"roboflow-jvuqo.yaml\"))\n",
    "#with open(join(\".\",\"data\",\"roboflow-jvuqo.yaml\"), 'r+') as file:\n",
    "#       data = yaml.safe_load(file)\n",
    "#       data[\"train\"] =join(\".\",\"datasets\",\"roboflow-jvuqo\",\"train\",\"images\")\n",
    "#       data[\"val\"] =join(\".\",\"datasets\",\"roboflow-jvuqo\",\"val\",\"images\")\n",
    "#       data[\"test\"] =join(\".\",\"datasets\",\"roboflow-jvuqo\",\"test\",\"images\")\n",
    "#       file.seek(0)\n",
    "#       yaml.safe_dump(data,file)\n",
    "#       file.truncate()\n",
    "\n",
    "list_dir = listdir(join(\".\",\"football-players-detection-1\"))\n",
    "dest_dir = join(join(\".\",\"datasets\",\"roboflow-jvuqo\"))\n",
    "makedirs(dest_dir,exist_ok=True)\n",
    "for sub_dir in list_dir:\n",
    "       shutil.move(join(\".\",\"football-players-detection-1\",sub_dir),join(dest_dir,sub_dir))\n",
    "       \n",
    "\n",
    "#shutil.move(join(\".\",\"football-players-detection-1\",\"data.yaml\"),join(\".\",\"datasets\",\"roboflow-jvuqo\",))"
   ]
  }
 ],
 "metadata": {
  "kernelspec": {
   "display_name": "yolo",
   "language": "python",
   "name": "yolo"
  },
  "language_info": {
   "codemirror_mode": {
    "name": "ipython",
    "version": 3
   },
   "file_extension": ".py",
   "mimetype": "text/x-python",
   "name": "python",
   "nbconvert_exporter": "python",
   "pygments_lexer": "ipython3",
   "version": "3.10.12"
  }
 },
 "nbformat": 4,
 "nbformat_minor": 2
}
