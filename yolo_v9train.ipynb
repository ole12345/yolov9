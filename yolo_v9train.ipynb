{
  "cells": [
    {
      "cell_type": "markdown",
      "metadata": {
        "colab_type": "text",
        "id": "view-in-github"
      },
      "source": [
        "<a href=\"https://colab.research.google.com/github/ole12345/yolov9/blob/main/yolo_v9train.ipynb\" target=\"_parent\"><img src=\"https://colab.research.google.com/assets/colab-badge.svg\" alt=\"Open In Colab\"/></a>"
      ]
    },
    {
      "cell_type": "code",
      "execution_count": null,
      "metadata": {
        "colab": {
          "base_uri": "https://localhost:8080/"
        },
        "collapsed": true,
        "id": "HeTbOtwkVTok",
        "outputId": "cc525c15-8fac-4bd7-ba97-cc907b641806"
      },
      "outputs": [],
      "source": [
        "!git clone https://github.com/ole12345/yolov9.git"
      ]
    },
    {
      "cell_type": "code",
      "execution_count": null,
      "metadata": {
        "colab": {
          "base_uri": "https://localhost:8080/"
        },
        "collapsed": true,
        "id": "SOahkxbRVi0u",
        "outputId": "b004296b-8d83-4d81-e96f-c7796ee1287e"
      },
      "outputs": [],
      "source": [
        "%cd yolov9\n",
        "!pip install -r requirements.txt\n",
        "import os\n",
        "os.kill(os.getpid(), 9)\n"
      ]
    },
    {
      "cell_type": "code",
      "execution_count": null,
      "metadata": {
        "colab": {
          "base_uri": "https://localhost:8080/"
        },
        "collapsed": true,
        "id": "_J4SMzM5uMma",
        "outputId": "3ac24529-2faf-4adb-e0ef-dd0b7c5952dc"
      },
      "outputs": [],
      "source": [
        "%cd yolov9\n",
        "!pwd"
      ]
    },
    {
      "cell_type": "code",
      "execution_count": null,
      "metadata": {
        "colab": {
          "base_uri": "https://localhost:8080/"
        },
        "collapsed": true,
        "id": "5z1_9RmNdGvw",
        "outputId": "e0da8875-6ea8-4b1d-dd65-b7d4c0df8f6c"
      },
      "outputs": [],
      "source": [
        "!pip install --upgrade jax"
      ]
    },
    {
      "cell_type": "code",
      "execution_count": 1,
      "metadata": {
        "colab": {
          "base_uri": "https://localhost:8080/"
        },
        "id": "v1uEQsuKWhkw",
        "outputId": "86829bd6-a7d2-479f-eb4f-ba6dfeb76c94"
      },
      "outputs": [
        {
          "name": "stdout",
          "output_type": "stream",
          "text": [
            "loading annotations into memory...\n",
            "Done (t=0.83s)\n",
            "creating index...\n",
            "index created!\n",
            "Selected 2522 images of 'instances_val2017.json' with following class distribution:\n",
            "'      person' : 2512 images\n",
            "' sports ball' : 169 images\n"
          ]
        },
        {
          "name": "stderr",
          "output_type": "stream",
          "text": [
            "Downloading images: 100%|██████████| 2522/2522 [00:29<00:00, 84.89images/s] \n"
          ]
        },
        {
          "name": "stdout",
          "output_type": "stream",
          "text": [
            "New Category Ids:\n",
            "0:person; old id: 1\n",
            "1:sports ball; old id: 37\n",
            "loading annotations into memory...\n",
            "Done (t=17.79s)\n",
            "creating index...\n",
            "index created!\n",
            "Selected 59618 images of 'instances_train2017.json' with following class distribution:\n",
            "'      person' : 59453 images\n",
            "' sports ball' : 4262 images\n"
          ]
        },
        {
          "name": "stderr",
          "output_type": "stream",
          "text": [
            "Downloading images: 100%|██████████| 59618/59618 [11:02<00:00, 89.98images/s]  \n"
          ]
        },
        {
          "name": "stdout",
          "output_type": "stream",
          "text": [
            "New Category Ids:\n",
            "0:person; old id: 1\n",
            "1:sports ball; old id: 37\n"
          ]
        }
      ],
      "source": [
        "import os\n",
        "from utils.filter_dataset import DatasetConfig, SubsetStrEnum, filter_dataset\n",
        "import yaml\n",
        "\n",
        "root_dir = os.getcwd()\n",
        "dataset_name=\"coco-2017-person-ball-small\"\n",
        "category_list=[\"person\",\"sports ball\"]\n",
        "yaml_content = {\"path\":os.path.join(\".\",\"datasets\",dataset_name)}\n",
        "\n",
        "#validation\n",
        "subset = SubsetStrEnum.VALIDATION\n",
        "max_number_of_images = None\n",
        "cfg= DatasetConfig(root_dir = root_dir,dataset_name=dataset_name, subset = subset, max_number_of_images = max_number_of_images,category_list=category_list)\n",
        "cat_id_name_val = filter_dataset(cfg)\n",
        "yaml_content[\"val\"] = subset+\".txt\"\n",
        "#train\n",
        "subset = SubsetStrEnum.TRAIN\n",
        "max_number_of_images = None\n",
        "cfg= DatasetConfig(root_dir = root_dir,dataset_name=dataset_name, subset = subset, max_number_of_images = max_number_of_images,category_list=category_list)\n",
        "cat_id_name_train = filter_dataset(cfg)\n",
        "yaml_content[\"train\"] = subset+\".txt\"\n",
        "if cat_id_name_train!=cat_id_name_val:\n",
        "   raise Exception(\"Inconsistent categories\")\n",
        "\n",
        "#write the yaml file\n",
        "yaml_content[\"names\"] = cat_id_name_train\n",
        "yaml_content[\"stuff_names\"] = list()\n",
        "yaml_content[\"download\"] = None\n",
        "with open(os.path.join(root_dir,\"data\",dataset_name+\".yaml\"),\"w\") as file:\n",
        "   yaml.dump(yaml_content, file, default_flow_style=False)\n",
        "   file.close()"
      ]
    },
    {
      "cell_type": "code",
      "execution_count": null,
      "execution_count": null,
      "metadata": {
        "colab": {
          "base_uri": "https://localhost:8080/"
        },
        "id": "23TOba33L4qf",
        "outputId": "e677d228-515e-47b5-f699-a7ee5f110506"
      },
      "outputs": [],
      "source": [
        "gpu_info = !nvidia-smi\n",
        "gpu_info = '\\n'.join(gpu_info)\n",
        "if gpu_info.find('failed') >= 0:\n",
        "  print('Not connected to a GPU')\n",
        "else:\n",
        "  print(gpu_info)"
      ]
    },
    {
      "cell_type": "code",
      "execution_count": 2,
      "metadata": {
        "colab": {
          "base_uri": "https://localhost:8080/"
        },
        "id": "7yti8ymIbRWf",
        "outputId": "b9212ddf-9eea-4381-d375-b863fe0c7432"
      },
      "outputs": [
        {
          "name": "stderr",
          "output_type": "stream",
          "text": [
            "\u001b[34m\u001b[1mwandb\u001b[0m: W&B disabled due to login timeout.\n",
            "usage: ipykernel_launcher.py [-h] [--weights WEIGHTS] [--cfg CFG]\n",
            "                             [--data DATA] [--hyp HYP] [--epochs EPOCHS]\n",
            "                             [--batch-size BATCH_SIZE] [--imgsz IMGSZ]\n",
            "                             [--rect] [--resume [RESUME]] [--nosave] [--noval]\n",
            "                             [--noautoanchor] [--noplots] [--evolve [EVOLVE]]\n",
            "                             [--bucket BUCKET] [--cache [CACHE]]\n",
            "                             [--image-weights] [--device DEVICE]\n",
            "                             [--multi-scale] [--single-cls]\n",
            "                             [--optimizer {SGD,Adam,AdamW,LION}] [--sync-bn]\n",
            "                             [--workers WORKERS] [--project PROJECT]\n",
            "                             [--name NAME] [--exist-ok] [--quad] [--cos-lr]\n",
            "                             [--label-smoothing LABEL_SMOOTHING]\n",
            "                             [--patience PATIENCE]\n",
            "                             [--freeze FREEZE [FREEZE ...]]\n",
            "                             [--save-period SAVE_PERIOD] [--seed SEED]\n",
            "                             [--local_rank LOCAL_RANK]\n",
            "                             [--close-mosaic CLOSE_MOSAIC]\n",
            "                             [--mask-ratio MASK_RATIO] [--no-overlap]\n",
            "ipykernel_launcher.py: error: argument --freeze: invalid int value: '/home/ole/.local/share/jupyter/runtime/kernel-v3177a1428b4f3b61f481d6fd5f13614de626220ba.json'\n"
          ]
        },
        {
          "ename": "SystemExit",
          "evalue": "2",
          "output_type": "error",
          "traceback": [
            "An exception has occurred, use %tb to see the full traceback.\n",
            "\u001b[0;31mSystemExit\u001b[0m\u001b[0;31m:\u001b[0m 2\n"
          ]
        }
      ],
      "source": [
        "from segment.train import run\n",
        "\n",
        "run(data = \"coco-2017-person-ball-small.yaml\",\n",
        "    device = 0,\n",
        "    batch = 32,\n",
        "    img = 640,\n",
        "    cfg = \"models/segment/gelan-c-s-seg.yaml\",\n",
        "    weights = \"\",\n",
        "    name = \"test_model\",\n",
        "    hyp = \"hyp.scratch-high.yaml\",\n",
        "    close_mosaic = 10,\n",
        "    epochs = 1\n",
        ")"
      ]
    },
    {
      "cell_type": "code",
      "execution_count": null,
      "metadata": {
        "colab": {
          "base_uri": "https://localhost:8080/",
          "height": 287
        },
        "id": "devcMo53dRCI",
        "outputId": "7734dec2-4a73-4a72-80da-f8ba0e03fe40"
      },
      "outputs": [],
      "source": [
        "!python export.py --weights /content/drive/My Drive/test_model3/weights/best.pt --include onnx"
      ]
    }
  ],
  "metadata": {
    "accelerator": "GPU",
    "colab": {
      "authorship_tag": "ABX9TyOzYlIq1b5O/+FYrTNeXTKr",
      "gpuType": "L4",
      "include_colab_link": true,
      "mount_file_id": "1cS9ogHJ8VhFjeBEtitImvGs7OBbz1R4C",
      "provenance": []
    },
    "kernelspec": {
      "display_name": "yolo",
      "language": "python",
      "name": "yolo"
    },
    "language_info": {
      "codemirror_mode": {
        "name": "ipython",
        "version": 3
      },
      "file_extension": ".py",
      "mimetype": "text/x-python",
      "name": "python",
      "nbconvert_exporter": "python",
      "pygments_lexer": "ipython3",
      "version": "3.10.12"
    }
  },
  "nbformat": 4,
  "nbformat_minor": 0
}
